{
 "cells": [
  {
   "cell_type": "code",
   "execution_count": 56,
   "id": "d2e634a0-cca9-46ab-bedb-e3b335a101a0",
   "metadata": {},
   "outputs": [
    {
     "name": "stdout",
     "output_type": "stream",
     "text": [
      "/Users/evanthomas/github.com/ethomas2/advent-of-code-2023/src/d20\n"
     ]
    }
   ],
   "source": [
    "import pprint\n",
    "from typing import List\n",
    "from dataclasses import dataclass\n",
    "import pathlib\n",
    "import collections\n",
    "\n",
    "@dataclass\n",
    "class Module:\n",
    "    type: str\n",
    "    name: str\n",
    "    connections: List[str]\n",
    "\n",
    "def parse_line(line):\n",
    "    a, b = line.split('->')\n",
    "    a, b = a.strip(), b.strip()\n",
    "    type, name = (None, None)\n",
    "    match a[0]:\n",
    "        case '%':\n",
    "            type, name = 'flipflop', a[1:]\n",
    "        case '&':\n",
    "            type, name = 'conjunction', a[1:]\n",
    "        case _ if a == 'broadcaster':\n",
    "            type, name = 'broadcaster', 'broadcaster'\n",
    "        case _:\n",
    "            raise Exception(f'Unexpected first char {a[0]}')\n",
    "\n",
    "    connections = [x.strip() for x in b.split(',')]\n",
    "    return Module(\n",
    "        type = type,\n",
    "        name = name,\n",
    "        connections = connections,\n",
    "    )\n",
    "\n",
    "def is_tree(start, graph, visited = None):\n",
    "    \"\"\" Copy pasted from d19/explore.py \"\"\"\n",
    "\n",
    "    visited = visited or []\n",
    "\n",
    "    if start in visited:\n",
    "        print(f'found loop involving {start}', visited)\n",
    "        return False\n",
    "\n",
    "    child_nodes = graph[start]\n",
    "    return all(\n",
    "        is_tree(cn, graph, visited + [start])\n",
    "        for cn in child_nodes\n",
    "    )\n",
    "\n",
    "import os\n",
    "print(os.getcwd())\n",
    "\n",
    "path = pathlib.Path.cwd()\n",
    "while path.name != \"advent-of-code-2023\" and path != path.parent:\n",
    "    path = path.parent\n",
    "\n",
    "with (path / pathlib.Path('src/d20/input')).open() as f:\n",
    "    lines = [line.strip() for line in f.readlines() if line.strip()]\n",
    "\n",
    "modules = [parse_line(line) for line in lines]\n",
    "\n",
    "_dst_module_names = [child for mod in modules for child in mod.connections]\n",
    "_name_graph = {\n",
    "        mod.name: mod.connections\n",
    "        for mod in modules\n",
    "}\n",
    "blackhole_module_names = list(set(name for name in _dst_module_names if name not in _name_graph.keys()))\n",
    "for bhole_name in blackhole_module_names:\n",
    "    modules.append(Module(name = bhole_name, type = 'blackhole', connections = []))\n",
    "# for name in blackhole_module_names\n",
    "# print('blackhole', blackhole_module_names)\n",
    "# pprint.pprint(collections.OrderedDict(sorted([(k, v) for k, v in name_graph.items()])))\n",
    "\n",
    "\n",
    "#print(is_tree('broadcaster', graph))"
   ]
  },
  {
   "cell_type": "code",
   "execution_count": 57,
   "id": "5b20f597-4619-4b10-ac31-c61298f1c92d",
   "metadata": {},
   "outputs": [],
   "source": [
    "name_to_mod = {mod.name: mod for mod in modules}\n",
    "\n",
    "module_graph = {\n",
    "    mod.name: [name_to_mod[child_name] for child_name in mod.connections] \n",
    "    for mod in modules\n",
    "}            "
   ]
  },
  {
   "cell_type": "code",
   "execution_count": 60,
   "id": "ad0bf885-134b-4549-8a46-905a629a1711",
   "metadata": {},
   "outputs": [
    {
     "name": "stdout",
     "output_type": "stream",
     "text": [
      "Warning: When  cdn_resources is 'local' jupyter notebook has issues displaying graphics on chrome/safari. Use cdn_resources='in_line' or cdn_resources='remote' if you have issues viewing graphics in a notebook.\n",
      "example.html\n"
     ]
    },
    {
     "data": {
      "text/html": [
       "\n",
       "        <iframe\n",
       "            width=\"100%\"\n",
       "            height=\"600px\"\n",
       "            src=\"example.html\"\n",
       "            frameborder=\"0\"\n",
       "            allowfullscreen\n",
       "            \n",
       "        ></iframe>\n",
       "        "
      ],
      "text/plain": [
       "<IPython.lib.display.IFrame at 0x110409d90>"
      ]
     },
     "execution_count": 60,
     "metadata": {},
     "output_type": "execute_result"
    }
   ],
   "source": [
    "from pyvis.network import Network\n",
    "net = Network(notebook=True, directed=True)\n",
    "# net.toggle_physics(True)\n",
    "\n",
    "# Have to add all nodes first\n",
    "for mod in modules:\n",
    "    color = {\n",
    "        'flipflop': 'blue',\n",
    "        'conjunction': 'green',\n",
    "        'broadcaster': 'red',\n",
    "        'blackhole': 'black',\n",
    "    }[mod.type]\n",
    "    net.add_node(mod.name, label=mod.name, color = color)\n",
    "\n",
    "for (src_name, dst_modules) in module_graph.items():\n",
    "    # print('arr', dst_modules)\n",
    "    for dst_mod in dst_modules:\n",
    "        # print('single', dst_mod)\n",
    "        net.add_edge(src_name, dst_mod.name)\n",
    "\n",
    "#net.show_buttons(filter_=['physics'])\n",
    "net.show(\"example.html\")\n"
   ]
  },
  {
   "cell_type": "code",
   "execution_count": null,
   "id": "2a4b1989-2615-4715-bdf2-aa2313e92382",
   "metadata": {},
   "outputs": [],
   "source": []
  }
 ],
 "metadata": {
  "kernelspec": {
   "display_name": "Python 3 (ipykernel)",
   "language": "python",
   "name": "python3"
  },
  "language_info": {
   "codemirror_mode": {
    "name": "ipython",
    "version": 3
   },
   "file_extension": ".py",
   "mimetype": "text/x-python",
   "name": "python",
   "nbconvert_exporter": "python",
   "pygments_lexer": "ipython3",
   "version": "3.11.2"
  }
 },
 "nbformat": 4,
 "nbformat_minor": 5
}
