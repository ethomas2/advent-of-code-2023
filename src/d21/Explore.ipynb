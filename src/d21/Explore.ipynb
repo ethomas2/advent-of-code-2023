{
 "cells": [
  {
   "cell_type": "code",
   "execution_count": 2,
   "id": "82038b85-26e0-43e1-b2fa-e520f1886602",
   "metadata": {},
   "outputs": [],
   "source": [
    "%load_ext jupyter_ai"
   ]
  },
  {
   "cell_type": "code",
   "execution_count": 3,
   "id": "00433fc5-410b-487f-91bc-43cf529ad328",
   "metadata": {},
   "outputs": [
    {
     "name": "stderr",
     "output_type": "stream",
     "text": [
      "/Users/evanthomas/github.com/ethomas2/advent-of-code-2023/venv/lib/python3.11/site-packages/langchain_community/llms/openai.py:1057: UserWarning: You are trying to use a chat model. This way of initializing it is no longer supported. Instead, please use: `from langchain_community.chat_models import ChatOpenAI`\n",
      "  warnings.warn(\n"
     ]
    },
    {
     "data": {
      "text/html": [
       "AI generated code inserted below &#11015;&#65039;"
      ],
      "text/plain": [
       "<IPython.core.display.HTML object>"
      ]
     },
     "execution_count": 3,
     "metadata": {
      "text/html": {
       "jupyter_ai": {
        "model_id": "gpt-3.5-turbo",
        "provider_id": "openai-chat"
       }
      }
     },
     "output_type": "execute_result"
    }
   ],
   "source": [
    "%%ai chatgpt -f code\n",
    "\n",
    "Consider the following text\n",
    "\n",
    "...........\n",
    ".....###.#.\n",
    ".###.##..#.\n",
    "..#.#...#..\n",
    "....#.#....\n",
    ".##..S####.\n",
    ".##..#...#.\n",
    ".......##..\n",
    ".##.#.####.\n",
    ".##..##.##.\n",
    "...........\n",
    "\n",
    "This text represents an n x m grid. You start where the S column indicates (row 5, column 5)\n",
    "\n",
    "On every iteration you can move up down left or right, but you can't move into a wall (walls are indicated by #). So from S you could move \n",
    "up or left but not down or right because there are walls\n",
    "\n",
    "I want to represent the possible directions you can travel as an adjacency matrix. So from (5, 5) you can go up (4, 5) or left (5, 4).\n",
    "Parse the text into an adjacency matrix in numpy"
   ]
  },
  {
   "cell_type": "code",
   "execution_count": 22,
   "id": "ce49e9b8-715d-489b-aaa7-eeeb0b7ea2e8",
   "metadata": {},
   "outputs": [
    {
     "data": {
      "text/plain": [
       "array([[0., 1., 0., ..., 0., 0., 0.],\n",
       "       [1., 0., 1., ..., 0., 0., 0.],\n",
       "       [0., 1., 0., ..., 0., 0., 0.],\n",
       "       ...,\n",
       "       [0., 0., 0., ..., 0., 1., 0.],\n",
       "       [0., 0., 0., ..., 1., 0., 1.],\n",
       "       [0., 0., 0., ..., 0., 1., 0.]])"
      ]
     },
     "execution_count": 22,
     "metadata": {},
     "output_type": "execute_result"
    }
   ],
   "source": [
    "import numpy as np\n",
    "\n",
    "text = \"\"\"...........\n",
    ".....###.#.\n",
    ".###.##..#.\n",
    "..#.#...#..\n",
    "....#.#....\n",
    ".##..S####.\n",
    ".##..#...#.\n",
    ".......##..\n",
    ".##.#.####.\n",
    ".##..##.##.\n",
    "...........\"\"\"\n",
    "\n",
    "grid = []\n",
    "\n",
    "for line in text.split(\"\\n\"):\n",
    "    if line:\n",
    "        grid.append(list(line))\n",
    "\n",
    "n = len(grid)\n",
    "m = len(grid[0])\n",
    "\n",
    "adj_matrix = np.zeros((n*m, n*m))\n",
    "\n",
    "for i in range(n):\n",
    "    for j in range(m):\n",
    "        if grid[i][j] != \"#\":\n",
    "            if i > 0 and grid[i-1][j] != \"#\":\n",
    "                adj_matrix[i*m+j, (i-1)*m+j] = 1\n",
    "            if i < n-1 and grid[i+1][j] != \"#\":\n",
    "                adj_matrix[i*m+j, (i+1)*m+j] = 1\n",
    "            if j > 0 and grid[i][j-1] != \"#\":\n",
    "                adj_matrix[i*m+j, i*m+j-1] = 1\n",
    "            if j < m-1 and grid[i][j+1] != \"#\":\n",
    "                adj_matrix[i*m+j, i*m+j+1] = 1\n",
    "\n",
    "adj_matrix"
   ]
  },
  {
   "cell_type": "code",
   "execution_count": 23,
   "id": "53816534-a818-4bcd-a5dd-46d12171dc19",
   "metadata": {},
   "outputs": [
    {
     "name": "stdout",
     "output_type": "stream",
     "text": [
      "(121, 121)\n",
      "[['.', '.', '.', '.', '.', '.', '.', '.', '.', '.', '.'], ['.', '.', '.', '.', '.', '#', '#', '#', '.', '#', '.'], ['.', '#', '#', '#', '.', '#', '#', '.', '.', '#', '.'], ['.', '.', '#', '.', '#', '.', '.', '.', '#', '.', '.'], ['.', '.', '.', '.', '#', '.', '#', '.', '.', '.', '.'], ['.', '#', '#', '.', '.', 'S', '#', '#', '#', '#', '.'], ['.', '#', '#', '.', '.', '#', '.', '.', '.', '#', '.'], ['.', '.', '.', '.', '.', '.', '.', '#', '#', '.', '.'], ['.', '#', '#', '.', '#', '.', '#', '#', '#', '#', '.'], ['.', '#', '#', '.', '.', '#', '#', '.', '#', '#', '.'], ['.', '.', '.', '.', '.', '.', '.', '.', '.', '.', '.']]\n"
     ]
    }
   ],
   "source": [
    "print(adj_matrix.shape)\n",
    "print(grid)\n"
   ]
  },
  {
   "cell_type": "code",
   "execution_count": 7,
   "id": "dd3582fb-1133-42ce-a2a4-5a8472b9a083",
   "metadata": {},
   "outputs": [
    {
     "name": "stderr",
     "output_type": "stream",
     "text": [
      "/Users/evanthomas/github.com/ethomas2/advent-of-code-2023/venv/lib/python3.11/site-packages/langchain_community/llms/openai.py:1057: UserWarning: You are trying to use a chat model. This way of initializing it is no longer supported. Instead, please use: `from langchain_community.chat_models import ChatOpenAI`\n",
      "  warnings.warn(\n"
     ]
    },
    {
     "data": {
      "text/html": [
       "AI generated code inserted below &#11015;&#65039;"
      ],
      "text/plain": [
       "<IPython.core.display.HTML object>"
      ]
     },
     "execution_count": 7,
     "metadata": {
      "text/html": {
       "jupyter_ai": {
        "model_id": "gpt-3.5-turbo",
        "provider_id": "openai-chat"
       }
      }
     },
     "output_type": "execute_result"
    }
   ],
   "source": [
    "%%ai chatgpt -f code\n",
    "\n",
    "\n",
    "I want to know all the possible locations I can get to in exactly 64 steps. To do this\n",
    "1. Create a vector that has the start position (5, 5). You should get this by inspecting grid\n",
    "2. Raise adj_matrix to the 64th power and multiply it by the vector\n",
    "\n",
    "output the final vector and the number of possible locations in the final vector (ie the number of entires in the vector with value > 1)"
   ]
  },
  {
   "cell_type": "code",
   "execution_count": 36,
   "id": "ec5e2bdd-50e9-4fcb-8d23-31b317ea21f0",
   "metadata": {},
   "outputs": [
    {
     "data": {
      "text/plain": [
       "(array([ 0.,  0.,  0.,  0.,  0.,  0.,  0.,  0.,  0.,  0.,  0.,  0.,  0.,\n",
       "         0.,  0.,  0.,  0.,  0.,  0.,  0.,  0.,  0.,  0.,  0.,  0.,  0.,\n",
       "         0.,  0.,  0.,  0.,  1.,  0.,  0.,  0.,  1.,  0.,  9.,  0., 16.,\n",
       "         0.,  7.,  0.,  0.,  0.,  1.,  0., 10.,  0.,  0.,  0.,  0.,  0.,\n",
       "         1.,  0.,  0.,  0.,  0.,  0., 47.,  0., 32.,  0.,  0.,  0.,  0.,\n",
       "         0.,  0.,  0.,  0.,  0., 49.,  0.,  1.,  0.,  0.,  0.,  0.,  0.,\n",
       "         3.,  0., 34.,  0., 13.,  0.,  0.,  0.,  0.,  0.,  0.,  0.,  0.,\n",
       "         0.,  0.,  0.,  0.,  0.,  0.,  0.,  0.,  0.,  0.,  0.,  3.,  0.,\n",
       "         0.,  0.,  0.,  0.,  0.,  0.,  0.,  0.,  0.,  0.,  0.,  0.,  0.,\n",
       "         0.,  0.,  0.,  0.]),\n",
       " 16)"
      ]
     },
     "execution_count": 36,
     "metadata": {},
     "output_type": "execute_result"
    }
   ],
   "source": [
    "start_position = (5, 5)\n",
    "start_index = start_position[0] * m + start_position[1]\n",
    "initial_vector = np.zeros(n * m)\n",
    "initial_vector[start_index] = 1\n",
    "\n",
    "steps = 6\n",
    "final_vector = np.linalg.matrix_power(adj_matrix, steps) @ initial_vector\n",
    "num_possible_locations = np.sum(final_vector > 0.5)\n",
    "\n",
    "final_vector, num_possible_locations"
   ]
  },
  {
   "cell_type": "code",
   "execution_count": 42,
   "id": "2d31bc40-65fb-44bc-b866-f562f197c9cb",
   "metadata": {},
   "outputs": [
    {
     "name": "stderr",
     "output_type": "stream",
     "text": [
      "/Users/evanthomas/github.com/ethomas2/advent-of-code-2023/venv/lib/python3.11/site-packages/langchain_community/llms/openai.py:1057: UserWarning: You are trying to use a chat model. This way of initializing it is no longer supported. Instead, please use: `from langchain_community.chat_models import ChatOpenAI`\n",
      "  warnings.warn(\n"
     ]
    },
    {
     "data": {
      "text/html": [
       "AI generated code inserted below &#11015;&#65039;"
      ],
      "text/plain": [
       "<IPython.core.display.HTML object>"
      ]
     },
     "execution_count": 42,
     "metadata": {
      "text/html": {
       "jupyter_ai": {
        "model_id": "gpt-3.5-turbo",
        "provider_id": "openai-chat"
       }
      }
     },
     "output_type": "execute_result"
    }
   ],
   "source": [
    "%%ai chatgpt -f code\n",
    "\n",
    "The above code seems to work. Using the above code as a template write some code that opens the file at \"src/d21/input\". \n",
    "That file will contain a grid in the same format as the text above. Parse the grid and figure out how many locations are possible\n",
    "after 64 steps. Organize the code reasonably into nice functions and comment the code as appropriate"
   ]
  },
  {
   "cell_type": "code",
   "execution_count": 64,
   "id": "588f03a3-ec92-4ab8-b339-39be77848404",
   "metadata": {},
   "outputs": [
    {
     "name": "stdout",
     "output_type": "stream",
     "text": [
      "grid shape 131 131 17161\n",
      "[[0. 1. 0. ... 0. 0. 0.]\n",
      " [1. 0. 1. ... 0. 0. 0.]\n",
      " [0. 1. 0. ... 0. 0. 0.]\n",
      " ...\n",
      " [0. 0. 0. ... 0. 1. 0.]\n",
      " [0. 0. 0. ... 1. 0. 1.]\n",
      " [0. 0. 0. ... 0. 1. 0.]]\n",
      "(17161, 17161)\n",
      "Answer 42\n"
     ]
    }
   ],
   "source": [
    "import numpy as np\n",
    "\n",
    "def parse_grid_to_adj_matrix(grid):\n",
    "    n = len(grid)\n",
    "    m = len(grid[0])\n",
    "    adj_matrix = np.zeros((n*m, n*m))\n",
    "    \n",
    "    for i in range(n):\n",
    "        for j in range(m):\n",
    "            if grid[i][j] != \"#\":\n",
    "                if i > 0 and grid[i-1][j] != \"#\":\n",
    "                    adj_matrix[i*m+j, (i-1)*m+j] = 1\n",
    "                if i < n-1 and grid[i+1][j] != \"#\":\n",
    "                    adj_matrix[i*m+j, (i+1)*m+j] = 1\n",
    "                if j > 0 and grid[i][j-1] != \"#\":\n",
    "                    adj_matrix[i*m+j, i*m+j-1] = 1\n",
    "                if j < m-1 and grid[i][j+1] != \"#\":\n",
    "                    adj_matrix[i*m+j, i*m+j+1] = 1\n",
    "    \n",
    "    return adj_matrix\n",
    "\n",
    "def count_possible_locations(adj_matrix, steps, initial_vector):\n",
    "    print(adj_matrix)\n",
    "    print(adj_matrix.shape)\n",
    "    #start_position = np.argwhere(adj_matrix == ord(\"S\"))[0]\n",
    "    #start_index = start_position[0] * m + start_position[1]\n",
    "    #initial_vector = np.zeros(n * m)\n",
    "    #initial_vector[start_index] = 1\n",
    "\n",
    "    final_vector = np.linalg.matrix_power(adj_matrix, steps) @ initial_vector\n",
    "    num_possible_locations = np.sum(final_vector >= 1)\n",
    "    \n",
    "    return final_vector, num_possible_locations\n",
    "\n",
    "def parse_vector_to_grid(vector):\n",
    "    grid = []\n",
    "    for i in range(n):\n",
    "        row = []\n",
    "        for j in range(m):\n",
    "            index = i * m + j\n",
    "            if grid[i][j] == \"#\":\n",
    "                row.append(\"#\")\n",
    "            elif vector[index] <= 0.005:\n",
    "                row.append(\".\")\n",
    "            else:\n",
    "                row.append(\"O\")\n",
    "        grid.append(row)\n",
    "    return grid\n",
    "\n",
    "def parse_file(filename):\n",
    "    with open(filename, \"r\") as file:\n",
    "        grid = [list(line.strip()) for line in file.readlines() if line.strip()]\n",
    "        m,n = len(grid), len(grid[0])\n",
    "        print(\"grid shape\", m, n, m * n)\n",
    "               \n",
    "    return grid\n",
    "\n",
    "# config\n",
    "filename = \"/Users/evanthomas/github.com/ethomas2/advent-of-code-2023/src/d21/input\"\n",
    "steps = 6\n",
    "\n",
    "# parse file\n",
    "grid = parse_file(filename)\n",
    "nrows, ncols = len(grid), len(grid[0])\n",
    "start_idx = next(nrows * r + c for r in range(nrows) for c in range(ncols) if grid[r][c] == 'S') \n",
    "start_position = np.zeros(((nrows * ncols), 1))\n",
    "start_position[start_idx] = 1\n",
    "\n",
    "# compute\n",
    "adj_matrix = parse_grid_to_adj_matrix(grid)\n",
    "final_vector, num_possible_locations = count_possible_locations(adj_matrix, steps, start_position)\n",
    "print('Answer', num_possible_locations)\n",
    "# parse_vector_to_grid(final_vector), num_possible_locations"
   ]
  },
  {
   "cell_type": "code",
   "execution_count": null,
   "id": "157b9615-9bb3-4a8d-920a-3b1a33ac2489",
   "metadata": {},
   "outputs": [],
   "source": []
  }
 ],
 "metadata": {
  "kernelspec": {
   "display_name": "Python 3 (ipykernel)",
   "language": "python",
   "name": "python3"
  },
  "language_info": {
   "codemirror_mode": {
    "name": "ipython",
    "version": 3
   },
   "file_extension": ".py",
   "mimetype": "text/x-python",
   "name": "python",
   "nbconvert_exporter": "python",
   "pygments_lexer": "ipython3",
   "version": "3.11.2"
  }
 },
 "nbformat": 4,
 "nbformat_minor": 5
}
