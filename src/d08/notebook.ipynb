{
 "cells": [
  {
   "cell_type": "code",
   "execution_count": 21,
   "id": "4ffb1209-9298-4abd-95fb-349ad5b21312",
   "metadata": {},
   "outputs": [
    {
     "name": "stdout",
     "output_type": "stream",
     "text": [
      "['JVA', 'XLA', 'DNA', 'AAA', 'SHA', 'DLA']\n",
      "LRRRLRLLLLLLLRLRLRRLRRRLRRLRRRLRRLRRRLLRRRLRRLRLRRRLRRLRRRLLRLLRRRLRRRLRLLRLRLRRRLRRLRRLRRLRLRRRLRRLRRRLLRLLRLLRRLRLLRLRRLRLRLRRLRRRLLLRRLRRRLLRRLRLRLRRRLRLRRRLLRLLLRRRLLLRRLLRLLRRLLRLRRRLRLRRLRRLLRRLRLLRLRRRLRRRLRLRRRLRLRLRRLRLRRRLRRRLRRRLRRLRRLRRRLLRLRLLRLLRRRR\n"
     ]
    }
   ],
   "source": [
    "import pathlib\n",
    "def parse_line(line):\n",
    "    src, remain = line.split('=')\n",
    "    src = src.strip()\n",
    "    remain = remain.strip()\n",
    "    left, right = remain.split(',')\n",
    "    left = left.lstrip('(').strip()\n",
    "    right = right.rstrip(')').strip()\n",
    "\n",
    "    return (src, left, right)\n",
    "\n",
    "\n",
    "def get_input(p: pathlib.Path):\n",
    "    with p.open() as f:\n",
    "        lines = list(f.readlines())\n",
    "\n",
    "    instructions = lines[0]\n",
    "    _map = [parse_line(line) for line in lines[1:] if line.strip() != '']\n",
    "    _map = {src: (left, right) for (src, left, right) in _map}\n",
    "    start_nodes = [k for k in _map.keys() if k.endswith('A')]\n",
    "    return (start_nodes, instructions, _map)\n",
    "\n",
    "p = pathlib.Path('/Users/evanthomas/github.com/ethomas2/advent-of-code-2023/src/d08/input')\n",
    "start_nodes, instructions, _map = get_input(p)\n",
    "instructions = instructions.strip()\n",
    "print(start_nodes)\n",
    "print(instructions)"
   ]
  },
  {
   "cell_type": "code",
   "execution_count": 22,
   "id": "b2af6e87-a469-4306-8789-44da104c2f33",
   "metadata": {},
   "outputs": [
    {
     "name": "stdout",
     "output_type": "stream",
     "text": [
      "Warning: When  cdn_resources is 'local' jupyter notebook has issues displaying graphics on chrome/safari. Use cdn_resources='in_line' or cdn_resources='remote' if you have issues viewing graphics in a notebook.\n",
      "example.html\n"
     ]
    },
    {
     "data": {
      "text/html": [
       "\n",
       "        <iframe\n",
       "            width=\"100%\"\n",
       "            height=\"600px\"\n",
       "            src=\"example.html\"\n",
       "            frameborder=\"0\"\n",
       "            allowfullscreen\n",
       "            \n",
       "        ></iframe>\n",
       "        "
      ],
      "text/plain": [
       "<IPython.lib.display.IFrame at 0x10857ebd0>"
      ]
     },
     "execution_count": 22,
     "metadata": {},
     "output_type": "execute_result"
    }
   ],
   "source": [
    "from pyvis.network import Network\n",
    "net = Network(notebook=True, directed=True)\n",
    "net.toggle_physics(True)\n",
    "\n",
    "# Have to add all nodes first\n",
    "for node in _map.keys():\n",
    "    properties = {'color': 'green'} if node.endswith('A') else {'color': 'red'} if node.endswith('Z') else {}\n",
    "    net.add_node(node, label=node, **properties)\n",
    "\n",
    "for (src, (left, right)) in _map.items():\n",
    "    net.add_edge(src, left)\n",
    "    net.add_edge(src, right)\n",
    "\n",
    "#net.show_buttons(filter_=['physics'])\n",
    "net.show(\"example.html\")\n"
   ]
  },
  {
   "cell_type": "markdown",
   "id": "dab9e9a8-c74c-448d-839a-d514e76f9b32",
   "metadata": {},
   "source": [
    "The following code shows that each start node is on a cycle of it's own. Each cycle has exactly one terminal node (znode). **So the graph is set up such that each cursor hits a znode exactly once every n iterations**, where `n` is the length of that cursor's cycle. Thus every cursor is on a znode after `lcm(n1, n2, ...)` iterations "
   ]
  },
  {
   "cell_type": "code",
   "execution_count": 34,
   "id": "ec3b6ab2-3878-4834-b3f2-9ad63a032752",
   "metadata": {},
   "outputs": [
    {
     "data": {
      "text/html": [
       "<div>\n",
       "<style scoped>\n",
       "    .dataframe tbody tr th:only-of-type {\n",
       "        vertical-align: middle;\n",
       "    }\n",
       "\n",
       "    .dataframe tbody tr th {\n",
       "        vertical-align: top;\n",
       "    }\n",
       "\n",
       "    .dataframe thead th {\n",
       "        text-align: right;\n",
       "    }\n",
       "</style>\n",
       "<table border=\"1\" class=\"dataframe\">\n",
       "  <thead>\n",
       "    <tr style=\"text-align: right;\">\n",
       "      <th></th>\n",
       "      <th>JVA</th>\n",
       "      <th>XLA</th>\n",
       "      <th>DNA</th>\n",
       "      <th>AAA</th>\n",
       "      <th>SHA</th>\n",
       "      <th>DLA</th>\n",
       "    </tr>\n",
       "  </thead>\n",
       "  <tbody>\n",
       "    <tr>\n",
       "      <th>steps_until_0_znode</th>\n",
       "      <td>13939</td>\n",
       "      <td>17621</td>\n",
       "      <td>19199</td>\n",
       "      <td>15517</td>\n",
       "      <td>12361</td>\n",
       "      <td>20777</td>\n",
       "    </tr>\n",
       "    <tr>\n",
       "      <th>0_znode</th>\n",
       "      <td>(KDZ, 0)</td>\n",
       "      <td>(XQZ, 0)</td>\n",
       "      <td>(LKZ, 0)</td>\n",
       "      <td>(ZZZ, 0)</td>\n",
       "      <td>(NTZ, 0)</td>\n",
       "      <td>(XBZ, 0)</td>\n",
       "    </tr>\n",
       "    <tr>\n",
       "      <th>steps_until_1_znode</th>\n",
       "      <td>13939</td>\n",
       "      <td>17621</td>\n",
       "      <td>19199</td>\n",
       "      <td>15517</td>\n",
       "      <td>12361</td>\n",
       "      <td>20777</td>\n",
       "    </tr>\n",
       "    <tr>\n",
       "      <th>1_znode</th>\n",
       "      <td>(KDZ, 0)</td>\n",
       "      <td>(XQZ, 0)</td>\n",
       "      <td>(LKZ, 0)</td>\n",
       "      <td>(ZZZ, 0)</td>\n",
       "      <td>(NTZ, 0)</td>\n",
       "      <td>(XBZ, 0)</td>\n",
       "    </tr>\n",
       "    <tr>\n",
       "      <th>steps_until_2_znode</th>\n",
       "      <td>13939</td>\n",
       "      <td>17621</td>\n",
       "      <td>19199</td>\n",
       "      <td>15517</td>\n",
       "      <td>12361</td>\n",
       "      <td>20777</td>\n",
       "    </tr>\n",
       "    <tr>\n",
       "      <th>2_znode</th>\n",
       "      <td>(KDZ, 0)</td>\n",
       "      <td>(XQZ, 0)</td>\n",
       "      <td>(LKZ, 0)</td>\n",
       "      <td>(ZZZ, 0)</td>\n",
       "      <td>(NTZ, 0)</td>\n",
       "      <td>(XBZ, 0)</td>\n",
       "    </tr>\n",
       "  </tbody>\n",
       "</table>\n",
       "</div>"
      ],
      "text/plain": [
       "                          JVA       XLA       DNA       AAA       SHA  \\\n",
       "steps_until_0_znode     13939     17621     19199     15517     12361   \n",
       "0_znode              (KDZ, 0)  (XQZ, 0)  (LKZ, 0)  (ZZZ, 0)  (NTZ, 0)   \n",
       "steps_until_1_znode     13939     17621     19199     15517     12361   \n",
       "1_znode              (KDZ, 0)  (XQZ, 0)  (LKZ, 0)  (ZZZ, 0)  (NTZ, 0)   \n",
       "steps_until_2_znode     13939     17621     19199     15517     12361   \n",
       "2_znode              (KDZ, 0)  (XQZ, 0)  (LKZ, 0)  (ZZZ, 0)  (NTZ, 0)   \n",
       "\n",
       "                          DLA  \n",
       "steps_until_0_znode     20777  \n",
       "0_znode              (XBZ, 0)  \n",
       "steps_until_1_znode     20777  \n",
       "1_znode              (XBZ, 0)  \n",
       "steps_until_2_znode     20777  \n",
       "2_znode              (XBZ, 0)  "
      ]
     },
     "execution_count": 34,
     "metadata": {},
     "output_type": "execute_result"
    }
   ],
   "source": [
    "import pandas as pd\n",
    "import pprint\n",
    "\n",
    "start_nodes = [s for s in _map.keys() if s.endswith('A')]\n",
    "\n",
    "def iterate_on(s):\n",
    "    i = 0\n",
    "    # yield (s, i)\n",
    "    while True:\n",
    "        # take the instruction\n",
    "        if instructions[i] == 'L':\n",
    "            s = _map[s][0]\n",
    "        elif instructions[i] == 'R':\n",
    "            s = _map[s][1]\n",
    "        else:\n",
    "            raise Exception(f'Unknown instruction {instructions[i]}')\n",
    "        i = (i + 1) % len(instructions) \n",
    "        \n",
    "        yield (s, i)\n",
    "\n",
    "table = { s: {} for s in start_nodes }\n",
    "for s in start_nodes:\n",
    "    iter = iterate_on(s)\n",
    "    for j in range(3):\n",
    "        steps = 0\n",
    "        while True: \n",
    "            (x, i) = next(iter)\n",
    "            steps += 1\n",
    "            if x.endswith('Z'):\n",
    "                 table[s][f'steps_until_{j}_znode'] = steps\n",
    "                 table[s][f'{j}_znode'] = (x, i)\n",
    "                 break\n",
    "\n",
    "       \n",
    "df = pd.DataFrame.from_dict(table)\n",
    "\n",
    "df     "
   ]
  },
  {
   "cell_type": "code",
   "execution_count": null,
   "id": "cecfa238-c869-4243-86d8-9595753f0d0b",
   "metadata": {},
   "outputs": [],
   "source": []
  },
  {
   "cell_type": "code",
   "execution_count": null,
   "id": "4c05b324-3b4c-4032-8c45-8e86a75a99ad",
   "metadata": {},
   "outputs": [],
   "source": []
  }
 ],
 "metadata": {
  "kernelspec": {
   "display_name": "Python 3 (ipykernel)",
   "language": "python",
   "name": "python3"
  },
  "language_info": {
   "codemirror_mode": {
    "name": "ipython",
    "version": 3
   },
   "file_extension": ".py",
   "mimetype": "text/x-python",
   "name": "python",
   "nbconvert_exporter": "python",
   "pygments_lexer": "ipython3",
   "version": "3.11.2"
  }
 },
 "nbformat": 4,
 "nbformat_minor": 5
}
